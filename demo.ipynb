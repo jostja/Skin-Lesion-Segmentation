{
 "cells": [
  {
   "cell_type": "code",
   "execution_count": null,
   "metadata": {
    "vscode": {
     "languageId": "plaintext"
    }
   },
   "outputs": [],
   "source": [
    "import os\n",
    "import torch\n",
    "import numpy as np\n",
    "import matplotlib.pyplot as plt\n",
    "import albumentations as A\n",
    "import cv2\n",
    "from torch.utils.data import DataLoader\n",
    "from model import UNet  \n",
    "from dataset import ISICDataset  \n",
    "\n",
    "# Define paths and parameters\n",
    "images_path = \"data/images\"  \n",
    "masks_path = \"data/labels\"  \n",
    "img_size = 256  \n",
    "num_samples = 5  # Number of images to visualize"
   ]
  },
  {
   "cell_type": "code",
   "execution_count": null,
   "metadata": {
    "vscode": {
     "languageId": "plaintext"
    }
   },
   "outputs": [],
   "source": [
    "# Load test dataset\n",
    "ids = [image_file[:-4] for image_file in os.listdir(images_path) if image_file.endswith('.jpg')]\n",
    "train_size = int(0.8 * len(ids))\n",
    "val_size = int(0.1 * len(ids))\n",
    "test_ids = ids[train_size + val_size:]\n",
    "test_transform = A.Compose([A.Resize(height=img_size, width=img_size)])\n",
    "test_dataset = ISICDataset(images_path, masks_path, test_ids, img_size, test_transform)"
   ]
  },
  {
   "cell_type": "code",
   "execution_count": null,
   "metadata": {
    "vscode": {
     "languageId": "plaintext"
    }
   },
   "outputs": [],
   "source": [
    "# Initial visualization of test images and true masks\n",
    "fig, axes = plt.subplots(num_samples, 2, figsize=(10, 4 * num_samples))\n",
    "for i in range(num_samples):\n",
    "    img, true_mask = test_dataset[i]\n",
    "    img = img.permute(1, 2, 0).numpy()\n",
    "    true_mask = true_mask.permute(1, 2, 0).squeeze().numpy()\n",
    "\n",
    "    true_mask_resized = cv2.resize(true_mask, (img.shape[1], img.shape[0]))\n",
    "    true_mask_stacked = np.stack((true_mask_resized,) * 3, axis=-1)\n",
    "\n",
    "    axes[i, 0].imshow(img)\n",
    "    axes[i, 0].set_title('Original Image')\n",
    "    axes[i, 0].axis('off')\n",
    "\n",
    "    axes[i, 1].imshow(true_mask_stacked)\n",
    "    axes[i, 1].set_title('True Mask')\n",
    "    axes[i, 1].axis('off')\n",
    "plt.tight_layout()\n",
    "plt.show()"
   ]
  },
  {
   "cell_type": "code",
   "execution_count": null,
   "metadata": {
    "vscode": {
     "languageId": "plaintext"
    }
   },
   "outputs": [],
   "source": [
    "# Load trained model\n",
    "checkpoint_path = \"checkpoint.pth.tar\"  # Update with actual path\n",
    "model = UNet(n_channels=3, n_classes=1)\n",
    "checkpoint = torch.load(checkpoint_path, map_location=device)\n",
    "model.load_state_dict(checkpoint['model_state_dict'])\n",
    "model.to(device)\n",
    "model.eval()"
   ]
  },
  {
   "cell_type": "code",
   "execution_count": null,
   "metadata": {
    "vscode": {
     "languageId": "plaintext"
    }
   },
   "outputs": [],
   "source": [
    "# Visualization with generated masks\n",
    "fig, axes = plt.subplots(num_samples, 3, figsize=(10, 4 * num_samples))\n",
    "for i in range(num_samples):\n",
    "    img, true_mask = test_dataset[i]\n",
    "    img = img.permute(1, 2, 0).numpy()\n",
    "    true_mask = true_mask.permute(1, 2, 0).squeeze().numpy()\n",
    "\n",
    "    with torch.no_grad():\n",
    "        img_tensor = torch.Tensor(img).unsqueeze(0).permute(0, 3, 1, 2).to(device)\n",
    "        generated_mask = model(img_tensor).squeeze().cpu().numpy()\n",
    "        generated_mask = (generated_mask > 0.5).astype(np.float32)\n",
    "\n",
    "    true_mask_resized = cv2.resize(true_mask, (img.shape[1], img.shape[0]))\n",
    "    true_mask_stacked = np.stack((true_mask_resized,) * 3, axis=-1)\n",
    "\n",
    "    generated_mask_resized = cv2.resize(generated_mask, (img.shape[1], img.shape[0]))\n",
    "    generated_mask_stacked = np.stack((generated_mask_resized,) * 3, axis=-1)\n",
    "\n",
    "    axes[i, 0].imshow(img)\n",
    "    axes[i, 0].set_title('Original Image')\n",
    "    axes[i, 0].axis('off')\n",
    "\n",
    "    axes[i, 1].imshow(true_mask_stacked)\n",
    "    axes[i, 1].set_title('True Mask')\n",
    "    axes[i, 1].axis('off')\n",
    "\n",
    "    axes[i, 2].imshow(generated_mask_stacked)\n",
    "    axes[i, 2].set_title('Generated Mask')\n",
    "    axes[i, 2].axis('off')\n",
    "\n",
    "plt.tight_layout()\n",
    "plt.show()"
   ]
  }
 ],
 "metadata": {
  "language_info": {
   "name": "python"
  }
 },
 "nbformat": 4,
 "nbformat_minor": 2
}
